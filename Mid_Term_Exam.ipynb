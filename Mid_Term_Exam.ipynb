{
  "cells": [
    {
      "cell_type": "markdown",
      "metadata": {
        "id": "view-in-github",
        "colab_type": "text"
      },
      "source": [
        "<a href=\"https://colab.research.google.com/github/Mlandvweni/Mlandvwen/blob/main/Mid_Term_Exam.ipynb\" target=\"_parent\"><img src=\"https://colab.research.google.com/assets/colab-badge.svg\" alt=\"Open In Colab\"/></a>"
      ]
    },
    {
      "cell_type": "markdown",
      "id": "d8a68bd4-42c4-4ca4-90fb-bb7286266abe",
      "metadata": {
        "id": "d8a68bd4-42c4-4ca4-90fb-bb7286266abe"
      },
      "source": [
        "# Mid-Term Exam for **Data Mining**"
      ]
    },
    {
      "cell_type": "markdown",
      "id": "e3147038-785a-47a0-9f65-906c7e14fcc0",
      "metadata": {
        "jp-MarkdownHeadingCollapsed": true,
        "id": "e3147038-785a-47a0-9f65-906c7e14fcc0"
      },
      "source": [
        "## Instructions\n",
        "\n",
        "- Complete the nine tasks specified in the following three sections, using _either ONE of the two datasets_ attached (i.e., student-mat.csv，or student-por.csv).\n",
        "- Provide your codes/answers to the tasks in the cell under each section.\n",
        "- Each group should complete all tasks collaboratively.\n",
        "- Please provide a job breakdown for your group work divisioning, describing the jobs understaken by each memeber of your group.\n",
        "- **Submission Deadline**: _11:59AM, Monday, April 7,2025_\n",
        "_______________________________________________________\n",
        "*NOTE:* You may find more information about the properties of the dataset on this link:\n",
        "https://archive.ics.uci.edu/dataset/320/student+performance\n",
        "- __Columns to consider:__ school, sex, age, studytime, failures, absences, G1(first-period grade), G2(second-period grade), G3 (final grade).\n"
      ]
    },
    {
      "cell_type": "markdown",
      "id": "6652ad22-f078-42ce-adea-1b9278bcfbe6",
      "metadata": {
        "id": "6652ad22-f078-42ce-adea-1b9278bcfbe6"
      },
      "source": [
        "# Section 1: Exploratory Data Analysis (EDA) (30 points)   \n",
        "- **Task 1.1:** Data Cleaning (10 pts)\n",
        "    - The dataset has missing values in absences. Handle them appropriately.\n",
        "    - Identify outliers in studytime with appropriate visualization.\n",
        "- **Task 1.2:** Descriptive Statistics (10 pts)\n",
        "    - Compute the correlation between G1 (first-period grade) and G3 (final grade). Explain what does this imply?\n",
        "    - Plot a histogram of absences. Describe the distribution.\n",
        "- **Task 1.3:** Insights (10 pts)\n",
        "    - Does studytime affect G3? Show a boxplot and summarize your findings."
      ]
    },
    {
      "cell_type": "markdown",
      "id": "3531c55a-4ae4-4ec1-bf87-0f18cfc79312",
      "metadata": {
        "id": "3531c55a-4ae4-4ec1-bf87-0f18cfc79312"
      },
      "source": [
        "## Task 1.1: Data Cleaning\n",
        "**Assigned Member**: Mikollito Ong\n",
        "\n",
        "**Student ID Number**: 1103558\n",
        "\n",
        "**Job Breakdown**:\n",
        "\n",
        "    1. Import the libraries.\n",
        "\n",
        "    2. Analyze the data and data shape.\n",
        "\n",
        "    3. Clean the data by handling NaN or Null values.\n",
        "\n",
        "    4. Visualize the [Study Time] and [Absences] using Boxplot.\n",
        "\n",
        "    5. Data Preprocessing and Transformation such as converting non numerical values into numerical (e.g. Sex: M = 0, F = 1)\n",
        "\n",
        "    6. (Optional) Normalize the data using Min-Max Normalization."
      ]
    },
    {
      "cell_type": "code",
      "execution_count": 6,
      "id": "8574184f-77df-47c9-bca5-fc788bff1903",
      "metadata": {
        "id": "8574184f-77df-47c9-bca5-fc788bff1903"
      },
      "outputs": [],
      "source": [
        "# Import the neccessary libraries\n",
        "import pandas as pd\n",
        "import numpy as np\n",
        "import matplotlib.pyplot as plt\n",
        "import seaborn as sns"
      ]
    },
    {
      "cell_type": "code",
      "execution_count": 8,
      "id": "164b49cb-89c9-4032-a6b0-bbf05077c83d",
      "metadata": {
        "colab": {
          "base_uri": "https://localhost:8080/",
          "height": 321
        },
        "id": "164b49cb-89c9-4032-a6b0-bbf05077c83d",
        "outputId": "25da1d4e-cb91-4a77-bcf0-0f80315b8d92"
      },
      "outputs": [
        {
          "output_type": "error",
          "ename": "FileNotFoundError",
          "evalue": "[Errno 2] No such file or directory: 'student-mat.csv'",
          "traceback": [
            "\u001b[0;31m---------------------------------------------------------------------------\u001b[0m",
            "\u001b[0;31mFileNotFoundError\u001b[0m                         Traceback (most recent call last)",
            "\u001b[0;32m<ipython-input-8-73bb2afad424>\u001b[0m in \u001b[0;36m<cell line: 0>\u001b[0;34m()\u001b[0m\n\u001b[0;32m----> 1\u001b[0;31m \u001b[0mdf\u001b[0m \u001b[0;34m=\u001b[0m \u001b[0mpd\u001b[0m\u001b[0;34m.\u001b[0m\u001b[0mread_csv\u001b[0m\u001b[0;34m(\u001b[0m\u001b[0;34m\"student-mat.csv\"\u001b[0m\u001b[0;34m,\u001b[0m \u001b[0mdelimiter\u001b[0m\u001b[0;34m=\u001b[0m\u001b[0;34m';'\u001b[0m\u001b[0;34m)\u001b[0m\u001b[0;34m\u001b[0m\u001b[0;34m\u001b[0m\u001b[0m\n\u001b[0m\u001b[1;32m      2\u001b[0m \u001b[0mdf\u001b[0m\u001b[0;34m.\u001b[0m\u001b[0mhead\u001b[0m\u001b[0;34m(\u001b[0m\u001b[0;34m)\u001b[0m\u001b[0;34m\u001b[0m\u001b[0;34m\u001b[0m\u001b[0m\n",
            "\u001b[0;32m/usr/local/lib/python3.11/dist-packages/pandas/io/parsers/readers.py\u001b[0m in \u001b[0;36mread_csv\u001b[0;34m(filepath_or_buffer, sep, delimiter, header, names, index_col, usecols, dtype, engine, converters, true_values, false_values, skipinitialspace, skiprows, skipfooter, nrows, na_values, keep_default_na, na_filter, verbose, skip_blank_lines, parse_dates, infer_datetime_format, keep_date_col, date_parser, date_format, dayfirst, cache_dates, iterator, chunksize, compression, thousands, decimal, lineterminator, quotechar, quoting, doublequote, escapechar, comment, encoding, encoding_errors, dialect, on_bad_lines, delim_whitespace, low_memory, memory_map, float_precision, storage_options, dtype_backend)\u001b[0m\n\u001b[1;32m   1024\u001b[0m     \u001b[0mkwds\u001b[0m\u001b[0;34m.\u001b[0m\u001b[0mupdate\u001b[0m\u001b[0;34m(\u001b[0m\u001b[0mkwds_defaults\u001b[0m\u001b[0;34m)\u001b[0m\u001b[0;34m\u001b[0m\u001b[0;34m\u001b[0m\u001b[0m\n\u001b[1;32m   1025\u001b[0m \u001b[0;34m\u001b[0m\u001b[0m\n\u001b[0;32m-> 1026\u001b[0;31m     \u001b[0;32mreturn\u001b[0m \u001b[0m_read\u001b[0m\u001b[0;34m(\u001b[0m\u001b[0mfilepath_or_buffer\u001b[0m\u001b[0;34m,\u001b[0m \u001b[0mkwds\u001b[0m\u001b[0;34m)\u001b[0m\u001b[0;34m\u001b[0m\u001b[0;34m\u001b[0m\u001b[0m\n\u001b[0m\u001b[1;32m   1027\u001b[0m \u001b[0;34m\u001b[0m\u001b[0m\n\u001b[1;32m   1028\u001b[0m \u001b[0;34m\u001b[0m\u001b[0m\n",
            "\u001b[0;32m/usr/local/lib/python3.11/dist-packages/pandas/io/parsers/readers.py\u001b[0m in \u001b[0;36m_read\u001b[0;34m(filepath_or_buffer, kwds)\u001b[0m\n\u001b[1;32m    618\u001b[0m \u001b[0;34m\u001b[0m\u001b[0m\n\u001b[1;32m    619\u001b[0m     \u001b[0;31m# Create the parser.\u001b[0m\u001b[0;34m\u001b[0m\u001b[0;34m\u001b[0m\u001b[0m\n\u001b[0;32m--> 620\u001b[0;31m     \u001b[0mparser\u001b[0m \u001b[0;34m=\u001b[0m \u001b[0mTextFileReader\u001b[0m\u001b[0;34m(\u001b[0m\u001b[0mfilepath_or_buffer\u001b[0m\u001b[0;34m,\u001b[0m \u001b[0;34m**\u001b[0m\u001b[0mkwds\u001b[0m\u001b[0;34m)\u001b[0m\u001b[0;34m\u001b[0m\u001b[0;34m\u001b[0m\u001b[0m\n\u001b[0m\u001b[1;32m    621\u001b[0m \u001b[0;34m\u001b[0m\u001b[0m\n\u001b[1;32m    622\u001b[0m     \u001b[0;32mif\u001b[0m \u001b[0mchunksize\u001b[0m \u001b[0;32mor\u001b[0m \u001b[0miterator\u001b[0m\u001b[0;34m:\u001b[0m\u001b[0;34m\u001b[0m\u001b[0;34m\u001b[0m\u001b[0m\n",
            "\u001b[0;32m/usr/local/lib/python3.11/dist-packages/pandas/io/parsers/readers.py\u001b[0m in \u001b[0;36m__init__\u001b[0;34m(self, f, engine, **kwds)\u001b[0m\n\u001b[1;32m   1618\u001b[0m \u001b[0;34m\u001b[0m\u001b[0m\n\u001b[1;32m   1619\u001b[0m         \u001b[0mself\u001b[0m\u001b[0;34m.\u001b[0m\u001b[0mhandles\u001b[0m\u001b[0;34m:\u001b[0m \u001b[0mIOHandles\u001b[0m \u001b[0;34m|\u001b[0m \u001b[0;32mNone\u001b[0m \u001b[0;34m=\u001b[0m \u001b[0;32mNone\u001b[0m\u001b[0;34m\u001b[0m\u001b[0;34m\u001b[0m\u001b[0m\n\u001b[0;32m-> 1620\u001b[0;31m         \u001b[0mself\u001b[0m\u001b[0;34m.\u001b[0m\u001b[0m_engine\u001b[0m \u001b[0;34m=\u001b[0m \u001b[0mself\u001b[0m\u001b[0;34m.\u001b[0m\u001b[0m_make_engine\u001b[0m\u001b[0;34m(\u001b[0m\u001b[0mf\u001b[0m\u001b[0;34m,\u001b[0m \u001b[0mself\u001b[0m\u001b[0;34m.\u001b[0m\u001b[0mengine\u001b[0m\u001b[0;34m)\u001b[0m\u001b[0;34m\u001b[0m\u001b[0;34m\u001b[0m\u001b[0m\n\u001b[0m\u001b[1;32m   1621\u001b[0m \u001b[0;34m\u001b[0m\u001b[0m\n\u001b[1;32m   1622\u001b[0m     \u001b[0;32mdef\u001b[0m \u001b[0mclose\u001b[0m\u001b[0;34m(\u001b[0m\u001b[0mself\u001b[0m\u001b[0;34m)\u001b[0m \u001b[0;34m->\u001b[0m \u001b[0;32mNone\u001b[0m\u001b[0;34m:\u001b[0m\u001b[0;34m\u001b[0m\u001b[0;34m\u001b[0m\u001b[0m\n",
            "\u001b[0;32m/usr/local/lib/python3.11/dist-packages/pandas/io/parsers/readers.py\u001b[0m in \u001b[0;36m_make_engine\u001b[0;34m(self, f, engine)\u001b[0m\n\u001b[1;32m   1878\u001b[0m                 \u001b[0;32mif\u001b[0m \u001b[0;34m\"b\"\u001b[0m \u001b[0;32mnot\u001b[0m \u001b[0;32min\u001b[0m \u001b[0mmode\u001b[0m\u001b[0;34m:\u001b[0m\u001b[0;34m\u001b[0m\u001b[0;34m\u001b[0m\u001b[0m\n\u001b[1;32m   1879\u001b[0m                     \u001b[0mmode\u001b[0m \u001b[0;34m+=\u001b[0m \u001b[0;34m\"b\"\u001b[0m\u001b[0;34m\u001b[0m\u001b[0;34m\u001b[0m\u001b[0m\n\u001b[0;32m-> 1880\u001b[0;31m             self.handles = get_handle(\n\u001b[0m\u001b[1;32m   1881\u001b[0m                 \u001b[0mf\u001b[0m\u001b[0;34m,\u001b[0m\u001b[0;34m\u001b[0m\u001b[0;34m\u001b[0m\u001b[0m\n\u001b[1;32m   1882\u001b[0m                 \u001b[0mmode\u001b[0m\u001b[0;34m,\u001b[0m\u001b[0;34m\u001b[0m\u001b[0;34m\u001b[0m\u001b[0m\n",
            "\u001b[0;32m/usr/local/lib/python3.11/dist-packages/pandas/io/common.py\u001b[0m in \u001b[0;36mget_handle\u001b[0;34m(path_or_buf, mode, encoding, compression, memory_map, is_text, errors, storage_options)\u001b[0m\n\u001b[1;32m    871\u001b[0m         \u001b[0;32mif\u001b[0m \u001b[0mioargs\u001b[0m\u001b[0;34m.\u001b[0m\u001b[0mencoding\u001b[0m \u001b[0;32mand\u001b[0m \u001b[0;34m\"b\"\u001b[0m \u001b[0;32mnot\u001b[0m \u001b[0;32min\u001b[0m \u001b[0mioargs\u001b[0m\u001b[0;34m.\u001b[0m\u001b[0mmode\u001b[0m\u001b[0;34m:\u001b[0m\u001b[0;34m\u001b[0m\u001b[0;34m\u001b[0m\u001b[0m\n\u001b[1;32m    872\u001b[0m             \u001b[0;31m# Encoding\u001b[0m\u001b[0;34m\u001b[0m\u001b[0;34m\u001b[0m\u001b[0m\n\u001b[0;32m--> 873\u001b[0;31m             handle = open(\n\u001b[0m\u001b[1;32m    874\u001b[0m                 \u001b[0mhandle\u001b[0m\u001b[0;34m,\u001b[0m\u001b[0;34m\u001b[0m\u001b[0;34m\u001b[0m\u001b[0m\n\u001b[1;32m    875\u001b[0m                 \u001b[0mioargs\u001b[0m\u001b[0;34m.\u001b[0m\u001b[0mmode\u001b[0m\u001b[0;34m,\u001b[0m\u001b[0;34m\u001b[0m\u001b[0;34m\u001b[0m\u001b[0m\n",
            "\u001b[0;31mFileNotFoundError\u001b[0m: [Errno 2] No such file or directory: 'student-mat.csv'"
          ]
        }
      ],
      "source": [
        "df = pd.read_csv(\"student-mat.csv\", delimiter=';')\n",
        "df.head()"
      ]
    },
    {
      "cell_type": "code",
      "execution_count": null,
      "id": "60823351-c7d6-4da8-8128-64f35f7dbcd7",
      "metadata": {
        "id": "60823351-c7d6-4da8-8128-64f35f7dbcd7",
        "outputId": "3789658d-82c5-4f07-9170-f588ec1e0eda"
      },
      "outputs": [
        {
          "name": "stdout",
          "output_type": "stream",
          "text": [
            "<class 'pandas.core.frame.DataFrame'>\n",
            "RangeIndex: 395 entries, 0 to 394\n",
            "Data columns (total 33 columns):\n",
            " #   Column      Non-Null Count  Dtype \n",
            "---  ------      --------------  ----- \n",
            " 0   school      395 non-null    object\n",
            " 1   sex         395 non-null    object\n",
            " 2   age         395 non-null    int64 \n",
            " 3   address     395 non-null    object\n",
            " 4   famsize     395 non-null    object\n",
            " 5   Pstatus     395 non-null    object\n",
            " 6   Medu        395 non-null    int64 \n",
            " 7   Fedu        395 non-null    int64 \n",
            " 8   Mjob        395 non-null    object\n",
            " 9   Fjob        395 non-null    object\n",
            " 10  reason      395 non-null    object\n",
            " 11  guardian    395 non-null    object\n",
            " 12  traveltime  395 non-null    int64 \n",
            " 13  studytime   395 non-null    int64 \n",
            " 14  failures    395 non-null    int64 \n",
            " 15  schoolsup   395 non-null    object\n",
            " 16  famsup      395 non-null    object\n",
            " 17  paid        395 non-null    object\n",
            " 18  activities  395 non-null    object\n",
            " 19  nursery     395 non-null    object\n",
            " 20  higher      395 non-null    object\n",
            " 21  internet    395 non-null    object\n",
            " 22  romantic    395 non-null    object\n",
            " 23  famrel      395 non-null    int64 \n",
            " 24  freetime    395 non-null    int64 \n",
            " 25  goout       395 non-null    int64 \n",
            " 26  Dalc        395 non-null    int64 \n",
            " 27  Walc        395 non-null    int64 \n",
            " 28  health      395 non-null    int64 \n",
            " 29  absences    395 non-null    int64 \n",
            " 30  G1          395 non-null    int64 \n",
            " 31  G2          395 non-null    int64 \n",
            " 32  G3          395 non-null    int64 \n",
            "dtypes: int64(16), object(17)\n",
            "memory usage: 102.0+ KB\n"
          ]
        }
      ],
      "source": [
        "# Check shape and Data Type:\n",
        "df.info()"
      ]
    },
    {
      "cell_type": "code",
      "execution_count": null,
      "id": "e1568b94-a75b-4b03-9dec-612ba03a0151",
      "metadata": {
        "id": "e1568b94-a75b-4b03-9dec-612ba03a0151",
        "outputId": "4221428b-7a7f-4347-bbdb-e98cedb00d45"
      },
      "outputs": [
        {
          "data": {
            "text/plain": [
              "school        0\n",
              "sex           0\n",
              "age           0\n",
              "address       0\n",
              "famsize       0\n",
              "Pstatus       0\n",
              "Medu          0\n",
              "Fedu          0\n",
              "Mjob          0\n",
              "Fjob          0\n",
              "reason        0\n",
              "guardian      0\n",
              "traveltime    0\n",
              "studytime     0\n",
              "failures      0\n",
              "schoolsup     0\n",
              "famsup        0\n",
              "paid          0\n",
              "activities    0\n",
              "nursery       0\n",
              "higher        0\n",
              "internet      0\n",
              "romantic      0\n",
              "famrel        0\n",
              "freetime      0\n",
              "goout         0\n",
              "Dalc          0\n",
              "Walc          0\n",
              "health        0\n",
              "absences      0\n",
              "G1            0\n",
              "G2            0\n",
              "G3            0\n",
              "dtype: int64"
            ]
          },
          "execution_count": 5,
          "metadata": {},
          "output_type": "execute_result"
        }
      ],
      "source": [
        "# Check if there are some missing values for each column:\n",
        "df.isnull().sum()"
      ]
    },
    {
      "cell_type": "code",
      "execution_count": null,
      "id": "9c3f1001-1df0-429c-9e2b-c6c6ebf0f307",
      "metadata": {
        "id": "9c3f1001-1df0-429c-9e2b-c6c6ebf0f307",
        "outputId": "657966dc-ca73-4469-b1ad-657dbb5ccd0a"
      },
      "outputs": [
        {
          "data": {
            "image/png": "[encoded data removed]",
            "text/plain": [
              "<Figure size 600x400 with 1 Axes>"
            ]
          },
          "metadata": {},
          "output_type": "display_data"
        }
      ],
      "source": [
        "# Identify outliers in studytime with appropriate visualization.\n",
        "# Boxplot to check for outliers in 'studytime'\n",
        "import matplotlib.pyplot as plt\n",
        "import seaborn as sns\n",
        "\n",
        "plt.figure(figsize=(6, 4))\n",
        "sns.boxplot(y=df['studytime'])\n",
        "plt.title(\"Boxplot of Study Time\")\n",
        "plt.ylabel(\"Study Time (1 = <2 hrs, 4 = >10 hrs)\")\n",
        "plt.tight_layout()\n",
        "plt.show()\n",
        "\n",
        "# Based on the boxplot, there are few outliers, meaning there are less students who studies more (studytime = 4).\n",
        "# But most student's studytime are between 1.0 and 2.0"
      ]
    },
    {
      "cell_type": "code",
      "execution_count": null,
      "id": "f7001ca9-4889-4dbb-9223-e6519b9099f5",
      "metadata": {
        "id": "f7001ca9-4889-4dbb-9223-e6519b9099f5",
        "outputId": "7e9d5e8e-4e4f-4bda-9b29-c1f99cbffbcd"
      },
      "outputs": [
        {
          "data": {
            "image/png": "[encoded data removed]",
            "text/plain": [
              "<Figure size 1200x500 with 2 Axes>"
            ]
          },
          "metadata": {},
          "output_type": "display_data"
        }
      ],
      "source": [
        "# We can try and check it with 'absences' too.\n",
        "# This is because most people assume that: Students who study less (studytime = 1) may also tend to skip class more.\n",
        "# If students have more absences, they also tend to have lower grades.\n",
        "\n",
        "# Visualize outliers in 'studytime' and 'absences'\n",
        "plt.figure(figsize=(12, 5))\n",
        "\n",
        "plt.subplot(1, 2, 1)\n",
        "sns.boxplot(x=df['studytime'])\n",
        "plt.title(\"Boxplot of Study Time\")\n",
        "\n",
        "plt.subplot(1, 2, 2)\n",
        "sns.boxplot(x=df['absences'])\n",
        "plt.title(\"Boxplot of Absences\")\n",
        "\n",
        "plt.tight_layout()\n",
        "plt.show()\n",
        "\n",
        "# Based on the boxplot, there are more outliers in Absences."
      ]
    },
    {
      "cell_type": "code",
      "execution_count": null,
      "id": "298d6ae8-c75f-464e-85c6-2f8d3560991e",
      "metadata": {
        "id": "298d6ae8-c75f-464e-85c6-2f8d3560991e"
      },
      "outputs": [],
      "source": [
        "# Convert 'sex' to binary\n",
        "# Transform non-numeric columns into numeric ones\n",
        "df['sex'] = df['sex'].map({'F': 1, 'M': 0})\n",
        "df = pd.get_dummies(df, columns=['address', 'famsize', 'Pstatus', 'schoolsup',\n",
        "                                 'famsup', 'paid', 'activities', 'nursery',\n",
        "                                 'higher', 'internet', 'romantic'], drop_first=True)\n"
      ]
    },
    {
      "cell_type": "code",
      "execution_count": null,
      "id": "03c635a5-d3ae-48a5-bddb-94619136a90a",
      "metadata": {
        "id": "03c635a5-d3ae-48a5-bddb-94619136a90a"
      },
      "outputs": [],
      "source": [
        "#from sklearn.preprocessing import MinMaxScaler\n",
        "\n",
        "#scaler = MinMaxScaler()\n",
        "#columns_to_scale = ['age', 'Medu', 'Fedu', 'traveltime', 'studytime',\n",
        "#                    'failures', 'famrel', 'freetime', 'goout',\n",
        "#                    'Dalc', 'Walc', 'health', 'absences', 'G1', 'G2', 'G3']\n",
        "\n",
        "#df[columns_to_scale] = scaler.fit_transform(df[columns_to_scale])\n"
      ]
    },
    {
      "cell_type": "code",
      "execution_count": null,
      "id": "7f739318-5a7b-422b-81e4-86feb466361d",
      "metadata": {
        "id": "7f739318-5a7b-422b-81e4-86feb466361d",
        "outputId": "20f7c8e7-1e22-42c3-8c45-8d530a787d3f"
      },
      "outputs": [
        {
          "name": "stdout",
          "output_type": "stream",
          "text": [
            "<class 'pandas.core.frame.DataFrame'>\n",
            "RangeIndex: 395 entries, 0 to 394\n",
            "Data columns (total 33 columns):\n",
            " #   Column          Non-Null Count  Dtype \n",
            "---  ------          --------------  ----- \n",
            " 0   school          395 non-null    object\n",
            " 1   sex             395 non-null    int64 \n",
            " 2   age             395 non-null    int64 \n",
            " 3   Medu            395 non-null    int64 \n",
            " 4   Fedu            395 non-null    int64 \n",
            " 5   Mjob            395 non-null    object\n",
            " 6   Fjob            395 non-null    object\n",
            " 7   reason          395 non-null    object\n",
            " 8   guardian        395 non-null    object\n",
            " 9   traveltime      395 non-null    int64 \n",
            " 10  studytime       395 non-null    int64 \n",
            " 11  failures        395 non-null    int64 \n",
            " 12  famrel          395 non-null    int64 \n",
            " 13  freetime        395 non-null    int64 \n",
            " 14  goout           395 non-null    int64 \n",
            " 15  Dalc            395 non-null    int64 \n",
            " 16  Walc            395 non-null    int64 \n",
            " 17  health          395 non-null    int64 \n",
            " 18  absences        395 non-null    int64 \n",
            " 19  G1              395 non-null    int64 \n",
            " 20  G2              395 non-null    int64 \n",
            " 21  G3              395 non-null    int64 \n",
            " 22  address_U       395 non-null    bool  \n",
            " 23  famsize_LE3     395 non-null    bool  \n",
            " 24  Pstatus_T       395 non-null    bool  \n",
            " 25  schoolsup_yes   395 non-null    bool  \n",
            " 26  famsup_yes      395 non-null    bool  \n",
            " 27  paid_yes        395 non-null    bool  \n",
            " 28  activities_yes  395 non-null    bool  \n",
            " 29  nursery_yes     395 non-null    bool  \n",
            " 30  higher_yes      395 non-null    bool  \n",
            " 31  internet_yes    395 non-null    bool  \n",
            " 32  romantic_yes    395 non-null    bool  \n",
            "dtypes: bool(11), int64(17), object(5)\n",
            "memory usage: 72.3+ KB\n"
          ]
        },
        {
          "data": {
            "text/html": [
              "<div>\n",
              "<style scoped>\n",
              "    .dataframe tbody tr th:only-of-type {\n",
              "        vertical-align: middle;\n",
              "    }\n",
              "\n",
              "    .dataframe tbody tr th {\n",
              "        vertical-align: top;\n",
              "    }\n",
              "\n",
              "    .dataframe thead th {\n",
              "        text-align: right;\n",
              "    }\n",
              "</style>\n",
              "<table border=\"1\" class=\"dataframe\">\n",
              "  <thead>\n",
              "    <tr style=\"text-align: right;\">\n",
              "      <th></th>\n",
              "      <th>school</th>\n",
              "      <th>sex</th>\n",
              "      <th>age</th>\n",
              "      <th>Medu</th>\n",
              "      <th>Fedu</th>\n",
              "      <th>Mjob</th>\n",
              "      <th>Fjob</th>\n",
              "      <th>reason</th>\n",
              "      <th>guardian</th>\n",
              "      <th>traveltime</th>\n",
              "      <th>...</th>\n",
              "      <th>famsize_LE3</th>\n",
              "      <th>Pstatus_T</th>\n",
              "      <th>schoolsup_yes</th>\n",
              "      <th>famsup_yes</th>\n",
              "      <th>paid_yes</th>\n",
              "      <th>activities_yes</th>\n",
              "      <th>nursery_yes</th>\n",
              "      <th>higher_yes</th>\n",
              "      <th>internet_yes</th>\n",
              "      <th>romantic_yes</th>\n",
              "    </tr>\n",
              "  </thead>\n",
              "  <tbody>\n",
              "    <tr>\n",
              "      <th>0</th>\n",
              "      <td>GP</td>\n",
              "      <td>1</td>\n",
              "      <td>18</td>\n",
              "      <td>4</td>\n",
              "      <td>4</td>\n",
              "      <td>at_home</td>\n",
              "      <td>teacher</td>\n",
              "      <td>course</td>\n",
              "      <td>mother</td>\n",
              "      <td>2</td>\n",
              "      <td>...</td>\n",
              "      <td>False</td>\n",
              "      <td>False</td>\n",
              "      <td>True</td>\n",
              "      <td>False</td>\n",
              "      <td>False</td>\n",
              "      <td>False</td>\n",
              "      <td>True</td>\n",
              "      <td>True</td>\n",
              "      <td>False</td>\n",
              "      <td>False</td>\n",
              "    </tr>\n",
              "    <tr>\n",
              "      <th>1</th>\n",
              "      <td>GP</td>\n",
              "      <td>1</td>\n",
              "      <td>17</td>\n",
              "      <td>1</td>\n",
              "      <td>1</td>\n",
              "      <td>at_home</td>\n",
              "      <td>other</td>\n",
              "      <td>course</td>\n",
              "      <td>father</td>\n",
              "      <td>1</td>\n",
              "      <td>...</td>\n",
              "      <td>False</td>\n",
              "      <td>True</td>\n",
              "      <td>False</td>\n",
              "      <td>True</td>\n",
              "      <td>False</td>\n",
              "      <td>False</td>\n",
              "      <td>False</td>\n",
              "      <td>True</td>\n",
              "      <td>True</td>\n",
              "      <td>False</td>\n",
              "    </tr>\n",
              "    <tr>\n",
              "      <th>2</th>\n",
              "      <td>GP</td>\n",
              "      <td>1</td>\n",
              "      <td>15</td>\n",
              "      <td>1</td>\n",
              "      <td>1</td>\n",
              "      <td>at_home</td>\n",
              "      <td>other</td>\n",
              "      <td>other</td>\n",
              "      <td>mother</td>\n",
              "      <td>1</td>\n",
              "      <td>...</td>\n",
              "      <td>True</td>\n",
              "      <td>True</td>\n",
              "      <td>True</td>\n",
              "      <td>False</td>\n",
              "      <td>True</td>\n",
              "      <td>False</td>\n",
              "      <td>True</td>\n",
              "      <td>True</td>\n",
              "      <td>True</td>\n",
              "      <td>False</td>\n",
              "    </tr>\n",
              "    <tr>\n",
              "      <th>3</th>\n",
              "      <td>GP</td>\n",
              "      <td>1</td>\n",
              "      <td>15</td>\n",
              "      <td>4</td>\n",
              "      <td>2</td>\n",
              "      <td>health</td>\n",
              "      <td>services</td>\n",
              "      <td>home</td>\n",
              "      <td>mother</td>\n",
              "      <td>1</td>\n",
              "      <td>...</td>\n",
              "      <td>False</td>\n",
              "      <td>True</td>\n",
              "      <td>False</td>\n",
              "      <td>True</td>\n",
              "      <td>True</td>\n",
              "      <td>True</td>\n",
              "      <td>True</td>\n",
              "      <td>True</td>\n",
              "      <td>True</td>\n",
              "      <td>True</td>\n",
              "    </tr>\n",
              "    <tr>\n",
              "      <th>4</th>\n",
              "      <td>GP</td>\n",
              "      <td>1</td>\n",
              "      <td>16</td>\n",
              "      <td>3</td>\n",
              "      <td>3</td>\n",
              "      <td>other</td>\n",
              "      <td>other</td>\n",
              "      <td>home</td>\n",
              "      <td>father</td>\n",
              "      <td>1</td>\n",
              "      <td>...</td>\n",
              "      <td>False</td>\n",
              "      <td>True</td>\n",
              "      <td>False</td>\n",
              "      <td>True</td>\n",
              "      <td>True</td>\n",
              "      <td>False</td>\n",
              "      <td>True</td>\n",
              "      <td>True</td>\n",
              "      <td>False</td>\n",
              "      <td>False</td>\n",
              "    </tr>\n",
              "  </tbody>\n",
              "</table>\n",
              "<p>5 rows × 33 columns</p>\n",
              "</div>"
            ],
            "text/plain": [
              "  school  sex  age  Medu  Fedu     Mjob      Fjob  reason guardian  \\\n",
              "0     GP    1   18     4     4  at_home   teacher  course   mother   \n",
              "1     GP    1   17     1     1  at_home     other  course   father   \n",
              "2     GP    1   15     1     1  at_home     other   other   mother   \n",
              "3     GP    1   15     4     2   health  services    home   mother   \n",
              "4     GP    1   16     3     3    other     other    home   father   \n",
              "\n",
              "   traveltime  ...  famsize_LE3  Pstatus_T  schoolsup_yes  famsup_yes  \\\n",
              "0           2  ...        False      False           True       False   \n",
              "1           1  ...        False       True          False        True   \n",
              "2           1  ...         True       True           True       False   \n",
              "3           1  ...        False       True          False        True   \n",
              "4           1  ...        False       True          False        True   \n",
              "\n",
              "   paid_yes  activities_yes  nursery_yes  higher_yes  internet_yes  \\\n",
              "0     False           False         True        True         False   \n",
              "1     False           False        False        True          True   \n",
              "2      True           False         True        True          True   \n",
              "3      True            True         True        True          True   \n",
              "4      True           False         True        True         False   \n",
              "\n",
              "   romantic_yes  \n",
              "0         False  \n",
              "1         False  \n",
              "2         False  \n",
              "3          True  \n",
              "4         False  \n",
              "\n",
              "[5 rows x 33 columns]"
            ]
          },
          "execution_count": 10,
          "metadata": {},
          "output_type": "execute_result"
        }
      ],
      "source": [
        "# Check the cleaned data\n",
        "df.info()\n",
        "df.head()\n"
      ]
    },
    {
      "cell_type": "markdown",
      "id": "a1fddc5f-0e4a-43b9-8c7b-657fddad3c99",
      "metadata": {
        "id": "a1fddc5f-0e4a-43b9-8c7b-657fddad3c99"
      },
      "source": [
        "## Task 1.2: Descriptive Statistics\n",
        "**Assigned Member**: Mikollito Ong\n",
        "    \n",
        "**Student ID Number**: 1103558\n",
        "\n",
        "**Job Breakdown:**\n",
        "\n",
        "    1. Compute the correlation and make an observation based on the correlation value.\n",
        "    \n",
        "    2. Plot the histogram of Absences and provide an insight."
      ]
    },
    {
      "cell_type": "code",
      "execution_count": null,
      "id": "3b6e9538-5d83-41f3-8dda-6d75407e974f",
      "metadata": {
        "id": "3b6e9538-5d83-41f3-8dda-6d75407e974f",
        "outputId": "1fafbf6c-1cac-4f90-cb67-e6507959c24c"
      },
      "outputs": [
        {
          "name": "stdout",
          "output_type": "stream",
          "text": [
            "Correlation between G1 and G3: 0.8014679320174136\n"
          ]
        }
      ],
      "source": [
        "# Compute correlation between G1 and G3\n",
        "correlation = df['G1'].corr(df['G3'])\n",
        "print(\"Correlation between G1 and G3:\", correlation)\n",
        "\n",
        "# Based on the results, the closer the correlation value to 1, to stronger the correlation is.\n",
        "# Since the Correlation Value is exactly 0.8014679320174141 , it suggests a fairly strong correlation."
      ]
    },
    {
      "cell_type": "code",
      "execution_count": null,
      "id": "f112d2f7-0379-4258-8878-b5a0491cb3d1",
      "metadata": {
        "id": "f112d2f7-0379-4258-8878-b5a0491cb3d1",
        "outputId": "341daafb-12fd-407d-9152-c31272f4b3a0"
      },
      "outputs": [
        {
          "data": {
            "image/png": "[encoded data removed]",
            "text/plain": [
              "<Figure size 600x400 with 1 Axes>"
            ]
          },
          "metadata": {},
          "output_type": "display_data"
        }
      ],
      "source": [
        "# Plot a histogram of absences\n",
        "import seaborn as sns\n",
        "import matplotlib.pyplot as plt\n",
        "\n",
        "plt.figure(figsize=(6, 4))\n",
        "sns.histplot(df['absences'], bins=20, kde=True)\n",
        "plt.title(\"Histogram of Absences\")\n",
        "plt.xlabel(\"Number of Absences\")\n",
        "plt.ylabel(\"Frequency\")\n",
        "plt.tight_layout()\n",
        "plt.show()\n"
      ]
    },
    {
      "cell_type": "markdown",
      "id": "1cce01ed-79b1-4ae2-aaea-eae3a748b12a",
      "metadata": {
        "id": "1cce01ed-79b1-4ae2-aaea-eae3a748b12a"
      },
      "source": [
        "## Histogram of Absences\n",
        "\n",
        "**Based on the histogram**:\n",
        "\n",
        "**1. The shape is Right-Skewed**\n",
        "\n",
        "**2. Large number of students have low absences**\n",
        "\n",
        "**3. The highest bar (0-5) means that many students barely missed any class**\n",
        "\n",
        "**4. There are very few students with very high absent counts. These are considered outliers in the dataset.**"
      ]
    },
    {
      "cell_type": "markdown",
      "id": "050dc233-0ab3-4414-b4cf-4ca189dbc628",
      "metadata": {
        "id": "050dc233-0ab3-4414-b4cf-4ca189dbc628"
      },
      "source": [
        "## Task 1.3: Insights\n",
        "**Assigned Member**: Mikollito Ong\n",
        "    \n",
        "**Student ID**: 1103558\n",
        "\n",
        "**Job Breakdown:**\n",
        "    \n",
        "    1. Plot the Study time and Final Grade using Boxplot.\n",
        "    2. Interpret the results from the plot and provide insights."
      ]
    },
    {
      "cell_type": "markdown",
      "id": "e9ea36bb-7296-4d99-b3f3-2a9a9af9c8a5",
      "metadata": {
        "id": "e9ea36bb-7296-4d99-b3f3-2a9a9af9c8a5"
      },
      "source": [
        "**Question: Does study time affect final grade? (G3)**\n",
        "\n",
        "**Answer: Yes. The plot shows a visible pattern between study time and final grade (G3)**"
      ]
    },
    {
      "cell_type": "code",
      "execution_count": null,
      "id": "ec18acac-5bf3-41d5-9b7c-0274805edc38",
      "metadata": {
        "id": "ec18acac-5bf3-41d5-9b7c-0274805edc38",
        "outputId": "35d1af37-02ab-4209-93f3-a86d08553858"
      },
      "outputs": [
        {
          "data": {
            "image/png": "[encoded data removed]",
            "text/plain": [
              "<Figure size 600x400 with 1 Axes>"
            ]
          },
          "metadata": {},
          "output_type": "display_data"
        }
      ],
      "source": [
        "plt.figure(figsize=(6, 4))\n",
        "\n",
        "sns.boxplot(x='studytime', y='G3', data=df)\n",
        "\n",
        "plt.title(\"Final Grade (G3) by Study Time\")\n",
        "plt.xlabel(\"Study Time (1 = <2 hrs, 4 = >10 hrs)\")\n",
        "plt.ylabel(\"Final Grade (G3)\")\n",
        "\n",
        "plt.tight_layout()\n",
        "plt.show()"
      ]
    },
    {
      "cell_type": "markdown",
      "id": "2934b580-e3cc-4a54-aed8-6ef0b40f4aba",
      "metadata": {
        "id": "2934b580-e3cc-4a54-aed8-6ef0b40f4aba"
      },
      "source": [
        "## Task 1.3 Sumarry:\n",
        "\n",
        "The boxplot suggests that students who dedicate more time to studying generally achieve higher final grades (G3).\n",
        "\n",
        "In particular, those studying 5 hours or more per week (levels 3 and 4) tend to outperform those who study less than 2 hours.\n",
        "\n",
        "One noteworthy thing to mention is that students with studytime = 3 slightly outperforms students with studytime = 4.\n",
        "\n",
        "This is could be because of diminishing returns with learning progress when studying more than a certain amount of hours per day.\n",
        "\n",
        "This box plot suggest that the best amount of time to study is somewhere around 5 to 7 hours.\n",
        "  \n",
        "In summary, this plot indicates a positive relationship between study time and academic performance."
      ]
    },
    {
      "cell_type": "markdown",
      "id": "4004a7e5-800b-4428-932d-7ebfc42376c0",
      "metadata": {
        "id": "4004a7e5-800b-4428-932d-7ebfc42376c0"
      },
      "source": [
        "# Section 2: Classification Mining (Decision Tree) (40 points)\n",
        "- **Task 2.1: Model Building** (15 pts)\n",
        "    - Convert G3 into a new column that consists of binary classes: Pass (≥10) and Fail (<10). Split the data into 70% train and 30% test.\n",
        "    - Train a decision tree to predict Pass/Fail. List two hyperparameters you’d tune.\n",
        "- **Task 2.2: Evaluation** (15 pts)\n",
        "    - What's the model’s confusion matrix on the test set?\n",
        "    - Calculate accuracy, precision, and recall. Interpret the results.\n",
        "- **Task 2.3: Critical Thinking** (10 pts)\n",
        "    - The model performs poorly for \"Fail\" cases. Suggest two ways to improve it."
      ]
    },
    {
      "cell_type": "markdown",
      "source": [
        "Assigned Member: Mlandvo and Zithile\n",
        "\n",
        "Student ID Number: 1113523 and 1113552\n",
        "\n",
        "Job Breakdown:\n",
        "convert G3 into a new column that consists of binary classes\n",
        "\n",
        "Train a decision tree"
      ],
      "metadata": {
        "id": "ozRMkrxkD3cy"
      },
      "id": "ozRMkrxkD3cy"
    },
    {
      "cell_type": "code",
      "execution_count": 13,
      "id": "a4544de6-d0d9-4468-a53c-f476a9a11af9",
      "metadata": {
        "colab": {
          "base_uri": "https://localhost:8080/",
          "height": 141
        },
        "id": "a4544de6-d0d9-4468-a53c-f476a9a11af9",
        "outputId": "a49c2df6-1da2-4f67-9c2c-75eab9a7a194"
      },
      "outputs": [
        {
          "output_type": "error",
          "ename": "NameError",
          "evalue": "name 'df' is not defined",
          "traceback": [
            "\u001b[0;31m---------------------------------------------------------------------------\u001b[0m",
            "\u001b[0;31mNameError\u001b[0m                                 Traceback (most recent call last)",
            "\u001b[0;32m<ipython-input-13-e2ee053cf1f6>\u001b[0m in \u001b[0;36m<cell line: 0>\u001b[0;34m()\u001b[0m\n\u001b[0;32m----> 1\u001b[0;31m \u001b[0mdf\u001b[0m\u001b[0;34m[\u001b[0m\u001b[0;34m'pass_fail'\u001b[0m\u001b[0;34m]\u001b[0m \u001b[0;34m=\u001b[0m \u001b[0mdf\u001b[0m\u001b[0;34m[\u001b[0m\u001b[0;34m'G3'\u001b[0m\u001b[0;34m]\u001b[0m\u001b[0;34m.\u001b[0m\u001b[0mapply\u001b[0m\u001b[0;34m(\u001b[0m\u001b[0;32mlambda\u001b[0m \u001b[0mx\u001b[0m\u001b[0;34m:\u001b[0m \u001b[0;34m'Pass'\u001b[0m \u001b[0;32mif\u001b[0m \u001b[0mx\u001b[0m \u001b[0;34m>=\u001b[0m \u001b[0;36m10\u001b[0m \u001b[0;32melse\u001b[0m \u001b[0;34m'Fail'\u001b[0m\u001b[0;34m)\u001b[0m\u001b[0;34m\u001b[0m\u001b[0;34m\u001b[0m\u001b[0m\n\u001b[0m",
            "\u001b[0;31mNameError\u001b[0m: name 'df' is not defined"
          ]
        }
      ],
      "source": [
        "df['pass_fail'] = df['G3'].apply(lambda x: 'Pass' if x >= 10 else 'Fail')\n"
      ]
    },
    {
      "cell_type": "code",
      "execution_count": 14,
      "id": "8abe5747-e03f-47f9-88c7-0e305dd9ed2f",
      "metadata": {
        "colab": {
          "base_uri": "https://localhost:8080/",
          "height": 211
        },
        "id": "8abe5747-e03f-47f9-88c7-0e305dd9ed2f",
        "outputId": "f35efc0a-4c8e-4047-9fe4-86402c7758dd"
      },
      "outputs": [
        {
          "output_type": "error",
          "ename": "NameError",
          "evalue": "name 'df' is not defined",
          "traceback": [
            "\u001b[0;31m---------------------------------------------------------------------------\u001b[0m",
            "\u001b[0;31mNameError\u001b[0m                                 Traceback (most recent call last)",
            "\u001b[0;32m<ipython-input-14-364adc1d46a1>\u001b[0m in \u001b[0;36m<cell line: 0>\u001b[0;34m()\u001b[0m\n\u001b[1;32m      1\u001b[0m \u001b[0;32mfrom\u001b[0m \u001b[0msklearn\u001b[0m\u001b[0;34m.\u001b[0m\u001b[0mmodel_selection\u001b[0m \u001b[0;32mimport\u001b[0m \u001b[0mtrain_test_split\u001b[0m\u001b[0;34m\u001b[0m\u001b[0;34m\u001b[0m\u001b[0m\n\u001b[1;32m      2\u001b[0m \u001b[0;34m\u001b[0m\u001b[0m\n\u001b[0;32m----> 3\u001b[0;31m \u001b[0mX\u001b[0m \u001b[0;34m=\u001b[0m \u001b[0mdf\u001b[0m\u001b[0;34m.\u001b[0m\u001b[0mdrop\u001b[0m\u001b[0;34m(\u001b[0m\u001b[0;34m[\u001b[0m\u001b[0;34m'G3'\u001b[0m\u001b[0;34m,\u001b[0m \u001b[0;34m'pass_fail'\u001b[0m\u001b[0;34m]\u001b[0m\u001b[0;34m,\u001b[0m \u001b[0maxis\u001b[0m\u001b[0;34m=\u001b[0m\u001b[0;36m1\u001b[0m\u001b[0;34m)\u001b[0m\u001b[0;34m\u001b[0m\u001b[0;34m\u001b[0m\u001b[0m\n\u001b[0m\u001b[1;32m      4\u001b[0m \u001b[0my\u001b[0m \u001b[0;34m=\u001b[0m \u001b[0mdf\u001b[0m\u001b[0;34m[\u001b[0m\u001b[0;34m'pass_fail'\u001b[0m\u001b[0;34m]\u001b[0m\u001b[0;34m\u001b[0m\u001b[0;34m\u001b[0m\u001b[0m\n\u001b[1;32m      5\u001b[0m \u001b[0;34m\u001b[0m\u001b[0m\n",
            "\u001b[0;31mNameError\u001b[0m: name 'df' is not defined"
          ]
        }
      ],
      "source": [
        "from sklearn.model_selection import train_test_split\n",
        "\n",
        "X = df.drop(['G3', 'pass_fail'], axis=1)\n",
        "y = df['pass_fail']\n",
        "\n",
        "# Encode categorical variables\n",
        "X = pd.get_dummies(X, drop_first=True)\n",
        "\n",
        "X_train, X_test, y_train, y_test = train_test_split(X, y, test_size=0.3, random_state=42)\n"
      ]
    },
    {
      "cell_type": "code",
      "source": [
        "from sklearn.tree import DecisionTreeClassifier\n",
        "\n",
        "dt = DecisionTreeClassifier(random_state=42)\n",
        "dt.fit(X_train, y_train)\n"
      ],
      "metadata": {
        "id": "YepY2_-NFeZH"
      },
      "id": "YepY2_-NFeZH",
      "execution_count": null,
      "outputs": []
    },
    {
      "cell_type": "code",
      "source": [
        "from sklearn.metrics import confusion_matrix, accuracy_score, precision_score, recall_score\n",
        "\n",
        "y_pred = dt.predict(X_test)\n",
        "\n",
        "conf_matrix = confusion_matrix(y_test, y_pred)\n",
        "accuracy = accuracy_score(y_test, y_pred)\n",
        "precision = precision_score(y_test, y_pred, pos_label='Pass')\n",
        "recall = recall_score(y_test, y_pred, pos_label='Pass')\n"
      ],
      "metadata": {
        "id": "wdJfnMpbF8ex"
      },
      "id": "wdJfnMpbF8ex",
      "execution_count": null,
      "outputs": []
    },
    {
      "cell_type": "markdown",
      "source": [
        "Problem: The model might miss “Fail” cases (some false negatives and positives)."
      ],
      "metadata": {
        "id": "vlxTZjdEGEm6"
      },
      "id": "vlxTZjdEGEm6"
    },
    {
      "cell_type": "markdown",
      "source": [
        "Solutions:\n",
        "\n",
        "Class balancing: Apply oversampling (e.g., SMOTE) or class weights to handle imbalance.\n",
        "\n",
        "Ensemble models: Use Random Forest or boosting (like XGBoost) to improve generalization and performance.\n",
        "\n"
      ],
      "metadata": {
        "id": "zOkCNhioGGP4"
      },
      "id": "zOkCNhioGGP4"
    },
    {
      "cell_type": "markdown",
      "id": "5681c322-d6c8-4e6b-bf93-1dd9fd04b67e",
      "metadata": {
        "id": "5681c322-d6c8-4e6b-bf93-1dd9fd04b67e"
      },
      "source": [
        "# Section 3: Association Rules (40 points)\n",
        "- **Task 3.1: Rule Mining** (15 pts)\n",
        "    - Convert G3 (numeric) into categories: High (≥15), Medium (10-14), Low (<10).\n",
        "    - Use the Apriori algorithm with min_support=0.1 and min_confidence=0.5.\n",
        "    - List one rule and interpret it (e.g., {studytime ≥ 2} → {High}).\n",
        "- **Task 3.2: Validation** (15 pts)\n",
        "    - A rule {failures=0, studytime ≥ 2} → {High} has a lift of 1.8. Is this rule useful? Why?\n",
        "- **Task 3.3: Discuss one ethical concern** (10 pts)\n",
        "    - Should schools use such models to predict student performance? (share your thoughts with 20)"
      ]
    },
    {
      "cell_type": "code",
      "execution_count": 15,
      "id": "ce5f8845-a7d1-4f59-97de-ce7699f728a4",
      "metadata": {
        "colab": {
          "base_uri": "https://localhost:8080/"
        },
        "id": "ce5f8845-a7d1-4f59-97de-ce7699f728a4",
        "outputId": "c06a0079-8c5e-4253-8972-35ae87cc2344"
      },
      "outputs": [
        {
          "output_type": "stream",
          "name": "stdout",
          "text": [
            "Requirement already satisfied: mlxtend in /usr/local/lib/python3.11/dist-packages (0.23.4)\n",
            "Requirement already satisfied: scipy>=1.2.1 in /usr/local/lib/python3.11/dist-packages (from mlxtend) (1.14.1)\n",
            "Requirement already satisfied: numpy>=1.16.2 in /usr/local/lib/python3.11/dist-packages (from mlxtend) (2.0.2)\n",
            "Requirement already satisfied: pandas>=0.24.2 in /usr/local/lib/python3.11/dist-packages (from mlxtend) (2.2.2)\n",
            "Requirement already satisfied: scikit-learn>=1.3.1 in /usr/local/lib/python3.11/dist-packages (from mlxtend) (1.6.1)\n",
            "Requirement already satisfied: matplotlib>=3.0.0 in /usr/local/lib/python3.11/dist-packages (from mlxtend) (3.10.0)\n",
            "Requirement already satisfied: joblib>=0.13.2 in /usr/local/lib/python3.11/dist-packages (from mlxtend) (1.4.2)\n",
            "Requirement already satisfied: contourpy>=1.0.1 in /usr/local/lib/python3.11/dist-packages (from matplotlib>=3.0.0->mlxtend) (1.3.1)\n",
            "Requirement already satisfied: cycler>=0.10 in /usr/local/lib/python3.11/dist-packages (from matplotlib>=3.0.0->mlxtend) (0.12.1)\n",
            "Requirement already satisfied: fonttools>=4.22.0 in /usr/local/lib/python3.11/dist-packages (from matplotlib>=3.0.0->mlxtend) (4.56.0)\n",
            "Requirement already satisfied: kiwisolver>=1.3.1 in /usr/local/lib/python3.11/dist-packages (from matplotlib>=3.0.0->mlxtend) (1.4.8)\n",
            "Requirement already satisfied: packaging>=20.0 in /usr/local/lib/python3.11/dist-packages (from matplotlib>=3.0.0->mlxtend) (24.2)\n",
            "Requirement already satisfied: pillow>=8 in /usr/local/lib/python3.11/dist-packages (from matplotlib>=3.0.0->mlxtend) (11.1.0)\n",
            "Requirement already satisfied: pyparsing>=2.3.1 in /usr/local/lib/python3.11/dist-packages (from matplotlib>=3.0.0->mlxtend) (3.2.3)\n",
            "Requirement already satisfied: python-dateutil>=2.7 in /usr/local/lib/python3.11/dist-packages (from matplotlib>=3.0.0->mlxtend) (2.8.2)\n",
            "Requirement already satisfied: pytz>=2020.1 in /usr/local/lib/python3.11/dist-packages (from pandas>=0.24.2->mlxtend) (2025.2)\n",
            "Requirement already satisfied: tzdata>=2022.7 in /usr/local/lib/python3.11/dist-packages (from pandas>=0.24.2->mlxtend) (2025.2)\n",
            "Requirement already satisfied: threadpoolctl>=3.1.0 in /usr/local/lib/python3.11/dist-packages (from scikit-learn>=1.3.1->mlxtend) (3.6.0)\n",
            "Requirement already satisfied: six>=1.5 in /usr/local/lib/python3.11/dist-packages (from python-dateutil>=2.7->matplotlib>=3.0.0->mlxtend) (1.17.0)\n"
          ]
        }
      ],
      "source": [
        "pip install mlxtend\n"
      ]
    },
    {
      "cell_type": "code",
      "execution_count": null,
      "id": "4b73479d-b0f6-434d-9232-697ada28d490",
      "metadata": {
        "id": "4b73479d-b0f6-434d-9232-697ada28d490"
      },
      "outputs": [],
      "source": [
        "def categorize_g3(g):\n",
        "    if g >= 15:\n",
        "        return 'High'\n",
        "    elif g >= 10:\n",
        "        return 'Medium'\n",
        "    else:\n",
        "        return 'Low'\n",
        "\n",
        "df['G3_cat'] = df['G3'].apply(categorize_g3)\n"
      ]
    },
    {
      "cell_type": "code",
      "execution_count": null,
      "id": "74ec0504-1030-46c5-981c-65648305a215",
      "metadata": {
        "id": "74ec0504-1030-46c5-981c-65648305a215"
      },
      "outputs": [],
      "source": [
        "apriori_data = df[['studytime', 'failures', 'G3_cat']].copy()\n",
        "\n",
        "# Convert to categorical strings\n",
        "apriori_data['studytime'] = apriori_data['studytime'].apply(lambda x: 'studytime>=2' if x >= 2 else 'studytime<2')\n",
        "apriori_data['failures'] = apriori_data['failures'].apply(lambda x: 'failures=0' if x == 0 else 'failures>0')\n",
        "\n",
        "# One-hot encoding\n",
        "encoded_data = pd.get_dummies(apriori_data)\n"
      ]
    },
    {
      "cell_type": "code",
      "source": [
        "from mlxtend.frequent_patterns import apriori, association_rules\n",
        "\n",
        "frequent_itemsets = apriori(encoded_data, min_support=0.1, use_colnames=True)\n",
        "rules = association_rules(frequent_itemsets, metric='confidence', min_threshold=0.5)\n"
      ],
      "metadata": {
        "id": "JfShJbeHG0yI"
      },
      "id": "JfShJbeHG0yI",
      "execution_count": null,
      "outputs": []
    },
    {
      "cell_type": "markdown",
      "source": [
        "Interpretation: If a student studies more than 2 hours, they are likely to achieve a high grade."
      ],
      "metadata": {
        "id": "van--3qyG53G"
      },
      "id": "van--3qyG53G"
    },
    {
      "cell_type": "markdown",
      "source": [
        "Given Rule:\n",
        "\n",
        "{failures=0, studytime≥2} is {High}\n",
        "\n",
        "Lift = 1.8\n",
        "\n",
        "Is this rule useful?\n",
        "We think it is useful.\n",
        "\n",
        "Reason:\n",
        "\n",
        "Lift > 1 means a positive association.\n",
        "\n",
        "Lift = 1.8 means that students with no failures and sufficient study time are 80% more likely to score high compared to random chance.\n",
        "\n"
      ],
      "metadata": {
        "id": "fBy85nleHIrp"
      },
      "id": "fBy85nleHIrp"
    },
    {
      "cell_type": "markdown",
      "source": [
        "Should schools use such models to predict student performance?\n",
        "\n",
        "Yes but only if used ethically—to support students, not label or limit them. A predictions must be transparent also fair, and protect private matters."
      ],
      "metadata": {
        "id": "hCOYW1QjHohe"
      },
      "id": "hCOYW1QjHohe"
    },
    {
      "cell_type": "markdown",
      "source": [],
      "metadata": {
        "id": "FPotEObTH9iC"
      },
      "id": "FPotEObTH9iC"
    },
    {
      "cell_type": "code",
      "source": [],
      "metadata": {
        "id": "GScYAHi9G_-T"
      },
      "id": "GScYAHi9G_-T",
      "execution_count": null,
      "outputs": []
    }
  ],
  "metadata": {
    "kernelspec": {
      "display_name": "Python 3 (ipykernel)",
      "language": "python",
      "name": "python3"
    },
    "language_info": {
      "codemirror_mode": {
        "name": "ipython",
        "version": 3
      },
      "file_extension": ".py",
      "mimetype": "text/x-python",
      "name": "python",
      "nbconvert_exporter": "python",
      "pygments_lexer": "ipython3",
      "version": "3.9.21"
    },
    "colab": {
      "provenance": [],
      "include_colab_link": true
    }
  },
  "nbformat": 4,
  "nbformat_minor": 5
}